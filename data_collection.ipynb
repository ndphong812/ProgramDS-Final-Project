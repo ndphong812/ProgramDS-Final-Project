{
 "cells": [
  {
   "cell_type": "markdown",
   "metadata": {},
   "source": [
    "import thư viện"
   ]
  },
  {
   "cell_type": "code",
   "execution_count": 1,
   "metadata": {},
   "outputs": [],
   "source": [
    "import pandas as pd\n",
    "from countrygroups import EUROPEAN_UNION"
   ]
  },
  {
   "cell_type": "markdown",
   "metadata": {},
   "source": [
    "# 1. Thu thập dữ liệu"
   ]
  },
  {
   "cell_type": "markdown",
   "metadata": {},
   "source": [
    "## 1.1: Đọc file \" all_energy_statistics.csv \""
   ]
  },
  {
   "cell_type": "markdown",
   "metadata": {},
   "source": [
    "+ file được lấy trên kaggle từ link \" https://www.kaggle.com/datasets/unitednations/international-energy-statistics?resource=download \" \n",
    "+ Theo các điều khoản sử dụng của UNData : tất cả dữ liệu và siêu dữ liệu được cung cấp trên trang web của UNdata đều có sẵn miễn phí và có thể được sao chép tự do, sao chép và phân phối thêm với điều kiện là UNdata được trích dẫn làm tài liệu tham khảo.\n",
    "+ Cơ sở dữ liệu thống kê năng lượng chứa các số liệu thống kê năng lượng toàn diện về sản xuất, thương mại, chuyển đổi và tiêu thụ cuối cùng của sơ cấp và thứ cấp; thông thường và không thông thường; và các nguồn năng lượng mới và tái tạo."
   ]
  },
  {
   "cell_type": "code",
   "execution_count": 14,
   "metadata": {},
   "outputs": [
    {
     "data": {
      "text/html": [
       "<div>\n",
       "<style scoped>\n",
       "    .dataframe tbody tr th:only-of-type {\n",
       "        vertical-align: middle;\n",
       "    }\n",
       "\n",
       "    .dataframe tbody tr th {\n",
       "        vertical-align: top;\n",
       "    }\n",
       "\n",
       "    .dataframe thead th {\n",
       "        text-align: right;\n",
       "    }\n",
       "</style>\n",
       "<table border=\"1\" class=\"dataframe\">\n",
       "  <thead>\n",
       "    <tr style=\"text-align: right;\">\n",
       "      <th></th>\n",
       "      <th>country_or_area</th>\n",
       "      <th>commodity_transaction</th>\n",
       "      <th>year</th>\n",
       "      <th>unit</th>\n",
       "      <th>quantity</th>\n",
       "      <th>quantity_footnotes</th>\n",
       "      <th>category</th>\n",
       "    </tr>\n",
       "  </thead>\n",
       "  <tbody>\n",
       "    <tr>\n",
       "      <th>0</th>\n",
       "      <td>Austria</td>\n",
       "      <td>Additives and Oxygenates - Exports</td>\n",
       "      <td>1996</td>\n",
       "      <td>Metric tons,  thousand</td>\n",
       "      <td>5.0</td>\n",
       "      <td>NaN</td>\n",
       "      <td>additives_and_oxygenates</td>\n",
       "    </tr>\n",
       "    <tr>\n",
       "      <th>1</th>\n",
       "      <td>Austria</td>\n",
       "      <td>Additives and Oxygenates - Exports</td>\n",
       "      <td>1995</td>\n",
       "      <td>Metric tons,  thousand</td>\n",
       "      <td>17.0</td>\n",
       "      <td>NaN</td>\n",
       "      <td>additives_and_oxygenates</td>\n",
       "    </tr>\n",
       "    <tr>\n",
       "      <th>2</th>\n",
       "      <td>Belgium</td>\n",
       "      <td>Additives and Oxygenates - Exports</td>\n",
       "      <td>2014</td>\n",
       "      <td>Metric tons,  thousand</td>\n",
       "      <td>0.0</td>\n",
       "      <td>NaN</td>\n",
       "      <td>additives_and_oxygenates</td>\n",
       "    </tr>\n",
       "    <tr>\n",
       "      <th>3</th>\n",
       "      <td>Belgium</td>\n",
       "      <td>Additives and Oxygenates - Exports</td>\n",
       "      <td>2013</td>\n",
       "      <td>Metric tons,  thousand</td>\n",
       "      <td>0.0</td>\n",
       "      <td>NaN</td>\n",
       "      <td>additives_and_oxygenates</td>\n",
       "    </tr>\n",
       "    <tr>\n",
       "      <th>4</th>\n",
       "      <td>Belgium</td>\n",
       "      <td>Additives and Oxygenates - Exports</td>\n",
       "      <td>2012</td>\n",
       "      <td>Metric tons,  thousand</td>\n",
       "      <td>35.0</td>\n",
       "      <td>NaN</td>\n",
       "      <td>additives_and_oxygenates</td>\n",
       "    </tr>\n",
       "    <tr>\n",
       "      <th>...</th>\n",
       "      <td>...</td>\n",
       "      <td>...</td>\n",
       "      <td>...</td>\n",
       "      <td>...</td>\n",
       "      <td>...</td>\n",
       "      <td>...</td>\n",
       "      <td>...</td>\n",
       "    </tr>\n",
       "    <tr>\n",
       "      <th>1189477</th>\n",
       "      <td>Viet Nam</td>\n",
       "      <td>Electricity - total wind production</td>\n",
       "      <td>2012</td>\n",
       "      <td>Kilowatt-hours, million</td>\n",
       "      <td>92.0</td>\n",
       "      <td>1.0</td>\n",
       "      <td>wind_electricity</td>\n",
       "    </tr>\n",
       "    <tr>\n",
       "      <th>1189478</th>\n",
       "      <td>Viet Nam</td>\n",
       "      <td>Electricity - total wind production</td>\n",
       "      <td>2011</td>\n",
       "      <td>Kilowatt-hours, million</td>\n",
       "      <td>87.0</td>\n",
       "      <td>NaN</td>\n",
       "      <td>wind_electricity</td>\n",
       "    </tr>\n",
       "    <tr>\n",
       "      <th>1189479</th>\n",
       "      <td>Viet Nam</td>\n",
       "      <td>Electricity - total wind production</td>\n",
       "      <td>2010</td>\n",
       "      <td>Kilowatt-hours, million</td>\n",
       "      <td>50.0</td>\n",
       "      <td>NaN</td>\n",
       "      <td>wind_electricity</td>\n",
       "    </tr>\n",
       "    <tr>\n",
       "      <th>1189480</th>\n",
       "      <td>Viet Nam</td>\n",
       "      <td>Electricity - total wind production</td>\n",
       "      <td>2009</td>\n",
       "      <td>Kilowatt-hours, million</td>\n",
       "      <td>10.0</td>\n",
       "      <td>NaN</td>\n",
       "      <td>wind_electricity</td>\n",
       "    </tr>\n",
       "    <tr>\n",
       "      <th>1189481</th>\n",
       "      <td>Viet Nam</td>\n",
       "      <td>Electricity - total wind production</td>\n",
       "      <td>2008</td>\n",
       "      <td>Kilowatt-hours, million</td>\n",
       "      <td>1.0</td>\n",
       "      <td>NaN</td>\n",
       "      <td>wind_electricity</td>\n",
       "    </tr>\n",
       "  </tbody>\n",
       "</table>\n",
       "<p>1189482 rows × 7 columns</p>\n",
       "</div>"
      ],
      "text/plain": [
       "        country_or_area                commodity_transaction  year  \\\n",
       "0               Austria   Additives and Oxygenates - Exports  1996   \n",
       "1               Austria   Additives and Oxygenates - Exports  1995   \n",
       "2               Belgium   Additives and Oxygenates - Exports  2014   \n",
       "3               Belgium   Additives and Oxygenates - Exports  2013   \n",
       "4               Belgium   Additives and Oxygenates - Exports  2012   \n",
       "...                 ...                                  ...   ...   \n",
       "1189477        Viet Nam  Electricity - total wind production  2012   \n",
       "1189478        Viet Nam  Electricity - total wind production  2011   \n",
       "1189479        Viet Nam  Electricity - total wind production  2010   \n",
       "1189480        Viet Nam  Electricity - total wind production  2009   \n",
       "1189481        Viet Nam  Electricity - total wind production  2008   \n",
       "\n",
       "                            unit  quantity  quantity_footnotes  \\\n",
       "0         Metric tons,  thousand       5.0                 NaN   \n",
       "1         Metric tons,  thousand      17.0                 NaN   \n",
       "2         Metric tons,  thousand       0.0                 NaN   \n",
       "3         Metric tons,  thousand       0.0                 NaN   \n",
       "4         Metric tons,  thousand      35.0                 NaN   \n",
       "...                          ...       ...                 ...   \n",
       "1189477  Kilowatt-hours, million      92.0                 1.0   \n",
       "1189478  Kilowatt-hours, million      87.0                 NaN   \n",
       "1189479  Kilowatt-hours, million      50.0                 NaN   \n",
       "1189480  Kilowatt-hours, million      10.0                 NaN   \n",
       "1189481  Kilowatt-hours, million       1.0                 NaN   \n",
       "\n",
       "                         category  \n",
       "0        additives_and_oxygenates  \n",
       "1        additives_and_oxygenates  \n",
       "2        additives_and_oxygenates  \n",
       "3        additives_and_oxygenates  \n",
       "4        additives_and_oxygenates  \n",
       "...                           ...  \n",
       "1189477          wind_electricity  \n",
       "1189478          wind_electricity  \n",
       "1189479          wind_electricity  \n",
       "1189480          wind_electricity  \n",
       "1189481          wind_electricity  \n",
       "\n",
       "[1189482 rows x 7 columns]"
      ]
     },
     "execution_count": 14,
     "metadata": {},
     "output_type": "execute_result"
    }
   ],
   "source": [
    "df=pd.read_csv(\"all_energy_statistics.csv\")\n",
    "df"
   ]
  },
  {
   "cell_type": "markdown",
   "metadata": {},
   "source": [
    "## 1.2: Lọc dữ liệu"
   ]
  },
  {
   "cell_type": "markdown",
   "metadata": {},
   "source": [
    "Vì dữ liệu quá lớn không thể xử lý và up lên github được nên ta cần lọc ra lấy dữ liệu của các quốc gia châu âu"
   ]
  },
  {
   "cell_type": "code",
   "execution_count": 15,
   "metadata": {},
   "outputs": [],
   "source": [
    "eu_list=EUROPEAN_UNION.names\n",
    "eu_list.append('United Kingdom')\n",
    "eu_list.append('Russian Federation')\n",
    "eu_df=df[df['country_or_area'].isin(eu_list)]"
   ]
  },
  {
   "cell_type": "markdown",
   "metadata": {},
   "source": [
    "## 1.3: ghi vào file \" Europe.csv \""
   ]
  },
  {
   "cell_type": "code",
   "execution_count": 16,
   "metadata": {},
   "outputs": [],
   "source": [
    "eu_df.to_csv(\"Europe.csv\",index=False)"
   ]
  }
 ],
 "metadata": {
  "kernelspec": {
   "display_name": "Python 3.10.8 64-bit",
   "language": "python",
   "name": "python3"
  },
  "language_info": {
   "codemirror_mode": {
    "name": "ipython",
    "version": 3
   },
   "file_extension": ".py",
   "mimetype": "text/x-python",
   "name": "python",
   "nbconvert_exporter": "python",
   "pygments_lexer": "ipython3",
   "version": "3.10.8"
  },
  "orig_nbformat": 4,
  "vscode": {
   "interpreter": {
    "hash": "a42ccb73e7d9bfdf27e036f1d2b8b681e55fc0743cc5586bc2474d4a60f4b886"
   }
  }
 },
 "nbformat": 4,
 "nbformat_minor": 2
}
