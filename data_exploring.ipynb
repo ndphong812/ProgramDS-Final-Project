{
 "cells": [
  {
   "cell_type": "markdown",
   "metadata": {},
   "source": [
    "# 2. Khám phá dữ liệu"
   ]
  },
  {
   "cell_type": "markdown",
   "metadata": {},
   "source": [
    "## 2.1. Cấu trúc của tập dữ liệu"
   ]
  },
  {
   "cell_type": "markdown",
   "metadata": {},
   "source": [
    "Dữ liệu trên gồm một bảng. Trong bảng gồm 7 thuộc tính:\n",
    "- **country_or_area**: Quốc gia hoặc khu vực được khảo sát\n",
    "- **commodity_transaction**: Hàng hóa và mục đích mục đích giao dịch của loại hàng đó\n",
    "- **year**: Năm được lấy số liệu\n",
    "- **unit**: Đơn vị đo của loại năng lượng\n",
    "- **quantity**: Số lượng (tính theo đơn vị đo)\n",
    "- **category**: phân loại năng lượng"
   ]
  },
  {
   "cell_type": "markdown",
   "metadata": {},
   "source": [
    "## 2.2. Đọc dữ liệu, đếm số cột và số dòng"
   ]
  },
  {
   "cell_type": "markdown",
   "metadata": {},
   "source": [
    "Import các thư viện cần thiết"
   ]
  },
  {
   "cell_type": "code",
   "execution_count": 1,
   "metadata": {},
   "outputs": [],
   "source": [
    "import numpy as np\n",
    "import pandas as pd"
   ]
  },
  {
   "cell_type": "markdown",
   "metadata": {},
   "source": [
    "Đọc file **'Europe.csv'** và lưu vào dataframe **'europe_df'**"
   ]
  },
  {
   "cell_type": "code",
   "execution_count": 2,
   "metadata": {},
   "outputs": [
    {
     "data": {
      "text/html": [
       "<div>\n",
       "<style scoped>\n",
       "    .dataframe tbody tr th:only-of-type {\n",
       "        vertical-align: middle;\n",
       "    }\n",
       "\n",
       "    .dataframe tbody tr th {\n",
       "        vertical-align: top;\n",
       "    }\n",
       "\n",
       "    .dataframe thead th {\n",
       "        text-align: right;\n",
       "    }\n",
       "</style>\n",
       "<table border=\"1\" class=\"dataframe\">\n",
       "  <thead>\n",
       "    <tr style=\"text-align: right;\">\n",
       "      <th></th>\n",
       "      <th>country_or_area</th>\n",
       "      <th>commodity_transaction</th>\n",
       "      <th>year</th>\n",
       "      <th>unit</th>\n",
       "      <th>quantity</th>\n",
       "      <th>quantity_footnotes</th>\n",
       "      <th>category</th>\n",
       "    </tr>\n",
       "  </thead>\n",
       "  <tbody>\n",
       "    <tr>\n",
       "      <th>0</th>\n",
       "      <td>Austria</td>\n",
       "      <td>Additives and Oxygenates - Exports</td>\n",
       "      <td>1996</td>\n",
       "      <td>Metric tons,  thousand</td>\n",
       "      <td>5.0</td>\n",
       "      <td>NaN</td>\n",
       "      <td>additives_and_oxygenates</td>\n",
       "    </tr>\n",
       "    <tr>\n",
       "      <th>1</th>\n",
       "      <td>Austria</td>\n",
       "      <td>Additives and Oxygenates - Exports</td>\n",
       "      <td>1995</td>\n",
       "      <td>Metric tons,  thousand</td>\n",
       "      <td>17.0</td>\n",
       "      <td>NaN</td>\n",
       "      <td>additives_and_oxygenates</td>\n",
       "    </tr>\n",
       "    <tr>\n",
       "      <th>2</th>\n",
       "      <td>Belgium</td>\n",
       "      <td>Additives and Oxygenates - Exports</td>\n",
       "      <td>2014</td>\n",
       "      <td>Metric tons,  thousand</td>\n",
       "      <td>0.0</td>\n",
       "      <td>NaN</td>\n",
       "      <td>additives_and_oxygenates</td>\n",
       "    </tr>\n",
       "    <tr>\n",
       "      <th>3</th>\n",
       "      <td>Belgium</td>\n",
       "      <td>Additives and Oxygenates - Exports</td>\n",
       "      <td>2013</td>\n",
       "      <td>Metric tons,  thousand</td>\n",
       "      <td>0.0</td>\n",
       "      <td>NaN</td>\n",
       "      <td>additives_and_oxygenates</td>\n",
       "    </tr>\n",
       "    <tr>\n",
       "      <th>4</th>\n",
       "      <td>Belgium</td>\n",
       "      <td>Additives and Oxygenates - Exports</td>\n",
       "      <td>2012</td>\n",
       "      <td>Metric tons,  thousand</td>\n",
       "      <td>35.0</td>\n",
       "      <td>NaN</td>\n",
       "      <td>additives_and_oxygenates</td>\n",
       "    </tr>\n",
       "  </tbody>\n",
       "</table>\n",
       "</div>"
      ],
      "text/plain": [
       "  country_or_area               commodity_transaction  year  \\\n",
       "0         Austria  Additives and Oxygenates - Exports  1996   \n",
       "1         Austria  Additives and Oxygenates - Exports  1995   \n",
       "2         Belgium  Additives and Oxygenates - Exports  2014   \n",
       "3         Belgium  Additives and Oxygenates - Exports  2013   \n",
       "4         Belgium  Additives and Oxygenates - Exports  2012   \n",
       "\n",
       "                     unit  quantity  quantity_footnotes  \\\n",
       "0  Metric tons,  thousand       5.0                 NaN   \n",
       "1  Metric tons,  thousand      17.0                 NaN   \n",
       "2  Metric tons,  thousand       0.0                 NaN   \n",
       "3  Metric tons,  thousand       0.0                 NaN   \n",
       "4  Metric tons,  thousand      35.0                 NaN   \n",
       "\n",
       "                   category  \n",
       "0  additives_and_oxygenates  \n",
       "1  additives_and_oxygenates  \n",
       "2  additives_and_oxygenates  \n",
       "3  additives_and_oxygenates  \n",
       "4  additives_and_oxygenates  "
      ]
     },
     "execution_count": 2,
     "metadata": {},
     "output_type": "execute_result"
    }
   ],
   "source": [
    "europe_df = pd.read_csv('Europe.csv')\n",
    "europe_df.head()"
   ]
  },
  {
   "cell_type": "markdown",
   "metadata": {},
   "source": [
    "Tính số dòng và số cột lưu vào biến num_rows và num_cols"
   ]
  },
  {
   "cell_type": "code",
   "execution_count": 3,
   "metadata": {},
   "outputs": [
    {
     "name": "stdout",
     "output_type": "stream",
     "text": [
      "Số dòng: 382755\n",
      "Số cột: 7\n"
     ]
    }
   ],
   "source": [
    "num_rows, num_cols = europe_df.shape\n",
    "print(f'Số dòng: {num_rows}')\n",
    "print(f'Số cột: {num_cols}')"
   ]
  },
  {
   "cell_type": "markdown",
   "metadata": {},
   "source": [
    "## 2.3. Mỗi dòng có ý nghĩa gì? Có vấn đề các dòng có ý nghĩa khác nhau không?"
   ]
  },
  {
   "cell_type": "markdown",
   "metadata": {},
   "source": [
    "Ở dataset này, mỗi dòng sẽ là lượng năng lượng được tiêu thụ cũng như trao đổi của các nước châu Âu. Mỗi dòng sẽ là lượng năng lượng đó của một nước trong một năm. Một nước sẽ có nhiều loại hình năng lượng khác nhau. Nhìn chung thì ý nghĩa của các dòng sẽ là tương tự nhau."
   ]
  },
  {
   "cell_type": "markdown",
   "metadata": {},
   "source": [
    "## 2.4. Dữ liệu có bị lặp hay không?"
   ]
  },
  {
   "cell_type": "markdown",
   "metadata": {},
   "source": [
    "Biến **is_duplicated** sẽ trả về **True** nếu bị lặp hoặc **False** nếu không có dòng nào trùng nhau"
   ]
  },
  {
   "cell_type": "code",
   "execution_count": 4,
   "metadata": {},
   "outputs": [
    {
     "data": {
      "text/plain": [
       "False"
      ]
     },
     "execution_count": 4,
     "metadata": {},
     "output_type": "execute_result"
    }
   ],
   "source": [
    "is_duplicated = europe_df.duplicated().any()\n",
    "is_duplicated"
   ]
  },
  {
   "cell_type": "markdown",
   "metadata": {},
   "source": [
    "Như vậy, không có dòng nào bị trùng lặp với nhau cả"
   ]
  },
  {
   "cell_type": "markdown",
   "metadata": {},
   "source": [
    "## 2.5. Mỗi cột có kiểu giá trị gì?"
   ]
  },
  {
   "cell_type": "code",
   "execution_count": 5,
   "metadata": {},
   "outputs": [
    {
     "data": {
      "text/plain": [
       "country_or_area           object\n",
       "commodity_transaction     object\n",
       "year                       int64\n",
       "unit                      object\n",
       "quantity                 float64\n",
       "quantity_footnotes       float64\n",
       "category                  object\n",
       "dtype: object"
      ]
     },
     "execution_count": 5,
     "metadata": {},
     "output_type": "execute_result"
    }
   ],
   "source": [
    "col_dtype = europe_df.dtypes\n",
    "col_dtype"
   ]
  },
  {
   "cell_type": "markdown",
   "metadata": {},
   "source": [
    "### Nhận xét:\n",
    "Nhìn chung thì kiểu dữ liệu của các cột đã tương đối phù hợp"
   ]
  },
  {
   "cell_type": "markdown",
   "metadata": {},
   "source": [
    "## 2.6. Sự phân bố dữ liệu"
   ]
  },
  {
   "cell_type": "markdown",
   "metadata": {},
   "source": [
    "### Ta sẽ kiểm tra dữ liệu bị thiếu"
   ]
  },
  {
   "cell_type": "code",
   "execution_count": 6,
   "metadata": {},
   "outputs": [
    {
     "data": {
      "text/html": [
       "<div>\n",
       "<style scoped>\n",
       "    .dataframe tbody tr th:only-of-type {\n",
       "        vertical-align: middle;\n",
       "    }\n",
       "\n",
       "    .dataframe tbody tr th {\n",
       "        vertical-align: top;\n",
       "    }\n",
       "\n",
       "    .dataframe thead th {\n",
       "        text-align: right;\n",
       "    }\n",
       "</style>\n",
       "<table border=\"1\" class=\"dataframe\">\n",
       "  <thead>\n",
       "    <tr style=\"text-align: right;\">\n",
       "      <th></th>\n",
       "      <th>Count</th>\n",
       "      <th>%</th>\n",
       "    </tr>\n",
       "  </thead>\n",
       "  <tbody>\n",
       "    <tr>\n",
       "      <th>quantity_footnotes</th>\n",
       "      <td>367612</td>\n",
       "      <td>96.043683</td>\n",
       "    </tr>\n",
       "    <tr>\n",
       "      <th>country_or_area</th>\n",
       "      <td>0</td>\n",
       "      <td>0.000000</td>\n",
       "    </tr>\n",
       "    <tr>\n",
       "      <th>commodity_transaction</th>\n",
       "      <td>0</td>\n",
       "      <td>0.000000</td>\n",
       "    </tr>\n",
       "    <tr>\n",
       "      <th>year</th>\n",
       "      <td>0</td>\n",
       "      <td>0.000000</td>\n",
       "    </tr>\n",
       "    <tr>\n",
       "      <th>unit</th>\n",
       "      <td>0</td>\n",
       "      <td>0.000000</td>\n",
       "    </tr>\n",
       "    <tr>\n",
       "      <th>quantity</th>\n",
       "      <td>0</td>\n",
       "      <td>0.000000</td>\n",
       "    </tr>\n",
       "    <tr>\n",
       "      <th>category</th>\n",
       "      <td>0</td>\n",
       "      <td>0.000000</td>\n",
       "    </tr>\n",
       "  </tbody>\n",
       "</table>\n",
       "</div>"
      ],
      "text/plain": [
       "                        Count          %\n",
       "quantity_footnotes     367612  96.043683\n",
       "country_or_area             0   0.000000\n",
       "commodity_transaction       0   0.000000\n",
       "year                        0   0.000000\n",
       "unit                        0   0.000000\n",
       "quantity                    0   0.000000\n",
       "category                    0   0.000000"
      ]
     },
     "execution_count": 6,
     "metadata": {},
     "output_type": "execute_result"
    }
   ],
   "source": [
    "missing = pd.concat([europe_df.isnull().sum(), 100 * europe_df.isnull().mean()], axis=1)\n",
    "missing.columns=['Count', '%']\n",
    "missing.sort_values(by='Count', ascending=False)"
   ]
  },
  {
   "cell_type": "markdown",
   "metadata": {},
   "source": [
    "Các giá trị phân biệt của cột quantity_footnotes"
   ]
  },
  {
   "cell_type": "code",
   "execution_count": 7,
   "metadata": {},
   "outputs": [
    {
     "data": {
      "text/plain": [
       "array([nan,  1.])"
      ]
     },
     "execution_count": 7,
     "metadata": {},
     "output_type": "execute_result"
    }
   ],
   "source": [
    "europe_df['quantity_footnotes'].unique()"
   ]
  },
  {
   "cell_type": "markdown",
   "metadata": {},
   "source": [
    "#### Nhận xét:\n",
    "- Như ta đã thấy, cột **quantity_footnotes** chỉ có giá trị 1 và còn thiếu nhiều. Và nó cũng không cho ta thêm nhiều dữ liệu cho quá trình phân tích\n",
    "- Vì thế ta sẽ loại bỏ cột này đi để tiếp tục quá trình phân tích. "
   ]
  },
  {
   "cell_type": "code",
   "execution_count": 8,
   "metadata": {},
   "outputs": [
    {
     "data": {
      "text/plain": [
       "Index(['country_or_area', 'commodity_transaction', 'year', 'unit', 'quantity',\n",
       "       'category'],\n",
       "      dtype='object')"
      ]
     },
     "execution_count": 8,
     "metadata": {},
     "output_type": "execute_result"
    }
   ],
   "source": [
    "df1 = europe_df.drop(['quantity_footnotes'], axis=1)\n",
    "df1.columns"
   ]
  },
  {
   "cell_type": "markdown",
   "metadata": {},
   "source": [
    "### Sự phân bố dữ liệu dạng số"
   ]
  },
  {
   "cell_type": "markdown",
   "metadata": {},
   "source": [
    "Ta thấy có hai cột dữ liệu dạng số là **quantity** và **year**\n",
    "Ở đây ta thấy tuy cùng là số ở cột **quantity** nhưng do có nhiều loại hình năng lượng khác nhau nên đơn vị đo cũng khác nhau. Để so sánh chính xác số lượng thì ta sẽ chia các dạng năng lượng theo cột **unit** để dễ dàng theo dõi\n",
    "Ta sẽ thống kê các chỉ số sau cho dữ liệu số:\n",
    "- Giá trị nhỏ nhất (min)\n",
    "- Giá trị lớn nhất (max)\n",
    "- Phân vị 25\n",
    "- Phân vị 50\n",
    "- Phân vị 75"
   ]
  },
  {
   "cell_type": "markdown",
   "metadata": {},
   "source": [
    "Sự phân bố của năm (cột **year**)"
   ]
  },
  {
   "cell_type": "code",
   "execution_count": 9,
   "metadata": {},
   "outputs": [
    {
     "data": {
      "text/html": [
       "<div>\n",
       "<style scoped>\n",
       "    .dataframe tbody tr th:only-of-type {\n",
       "        vertical-align: middle;\n",
       "    }\n",
       "\n",
       "    .dataframe tbody tr th {\n",
       "        vertical-align: top;\n",
       "    }\n",
       "\n",
       "    .dataframe thead th {\n",
       "        text-align: right;\n",
       "    }\n",
       "</style>\n",
       "<table border=\"1\" class=\"dataframe\">\n",
       "  <thead>\n",
       "    <tr style=\"text-align: right;\">\n",
       "      <th></th>\n",
       "      <th>year</th>\n",
       "    </tr>\n",
       "    <tr>\n",
       "      <th>titles</th>\n",
       "      <th></th>\n",
       "    </tr>\n",
       "  </thead>\n",
       "  <tbody>\n",
       "    <tr>\n",
       "      <th>min</th>\n",
       "      <td>1990.0</td>\n",
       "    </tr>\n",
       "    <tr>\n",
       "      <th>lower_quartile</th>\n",
       "      <td>1997.0</td>\n",
       "    </tr>\n",
       "    <tr>\n",
       "      <th>median</th>\n",
       "      <td>2003.0</td>\n",
       "    </tr>\n",
       "    <tr>\n",
       "      <th>upper_quartile</th>\n",
       "      <td>2008.0</td>\n",
       "    </tr>\n",
       "    <tr>\n",
       "      <th>max</th>\n",
       "      <td>2014.0</td>\n",
       "    </tr>\n",
       "  </tbody>\n",
       "</table>\n",
       "</div>"
      ],
      "text/plain": [
       "                  year\n",
       "titles                \n",
       "min             1990.0\n",
       "lower_quartile  1997.0\n",
       "median          2003.0\n",
       "upper_quartile  2008.0\n",
       "max             2014.0"
      ]
     },
     "execution_count": 9,
     "metadata": {},
     "output_type": "execute_result"
    }
   ],
   "source": [
    "num_df = europe_df.copy()\n",
    "year_df = num_df['year']\n",
    "year_df = year_df.to_numpy()\n",
    "titles=['min', 'lower_quartile', 'median', 'upper_quartile', 'max']\n",
    "temp = []\n",
    "temp.append(np.nanmin(year_df))\n",
    "temp.append(np.nanpercentile(year_df,25))\n",
    "temp.append(np.nanpercentile(year_df,50))\n",
    "temp.append(np.nanpercentile(year_df,70))\n",
    "temp.append(np.nanmax(year_df))\n",
    "year_dict = {}\n",
    "year_dict['year'] = temp\n",
    "year_dict['titles'] = titles\n",
    "pd.DataFrame(year_dict).set_index('titles')"
   ]
  },
  {
   "cell_type": "markdown",
   "metadata": {},
   "source": [
    "#### Nhận xét:\n",
    "- Như ta đã thấy, dữ liệu được thu thập từ năm 1990 đến năm 2014, là 24 năm\n",
    "- Trung bình năm là 2003, đầu thập niên 2000, đây là khoảng thời gian chuyển giao quan trọng và có nhiều thông tin để khai thác"
   ]
  },
  {
   "cell_type": "markdown",
   "metadata": {},
   "source": [
    "Sự phân bố dữ liệu ở cột **quantity**, ở đây ta sẽ thống kê theo từng đơn vị đo"
   ]
  },
  {
   "cell_type": "code",
   "execution_count": 10,
   "metadata": {},
   "outputs": [
    {
     "data": {
      "text/html": [
       "<div>\n",
       "<style scoped>\n",
       "    .dataframe tbody tr th:only-of-type {\n",
       "        vertical-align: middle;\n",
       "    }\n",
       "\n",
       "    .dataframe tbody tr th {\n",
       "        vertical-align: top;\n",
       "    }\n",
       "\n",
       "    .dataframe thead th {\n",
       "        text-align: right;\n",
       "    }\n",
       "</style>\n",
       "<table border=\"1\" class=\"dataframe\">\n",
       "  <thead>\n",
       "    <tr style=\"text-align: right;\">\n",
       "      <th></th>\n",
       "      <th>Cubic metres, thousand</th>\n",
       "      <th>Metric tons,  thousand</th>\n",
       "      <th>Kilowatts,  thousand</th>\n",
       "      <th>Kilowatt-hours, million</th>\n",
       "      <th>Terajoules</th>\n",
       "      <th>Metric Tons</th>\n",
       "    </tr>\n",
       "    <tr>\n",
       "      <th>titles</th>\n",
       "      <th></th>\n",
       "      <th></th>\n",
       "      <th></th>\n",
       "      <th></th>\n",
       "      <th></th>\n",
       "      <th></th>\n",
       "    </tr>\n",
       "  </thead>\n",
       "  <tbody>\n",
       "    <tr>\n",
       "      <th>min</th>\n",
       "      <td>-1779.967</td>\n",
       "      <td>-1.928800e+04</td>\n",
       "      <td>0.00</td>\n",
       "      <td>0.0</td>\n",
       "      <td>-4.335110e+05</td>\n",
       "      <td>0.0</td>\n",
       "    </tr>\n",
       "    <tr>\n",
       "      <th>lower_quartile</th>\n",
       "      <td>13.136</td>\n",
       "      <td>6.000000e+00</td>\n",
       "      <td>50.00</td>\n",
       "      <td>345.0</td>\n",
       "      <td>3.450000e+02</td>\n",
       "      <td>24.0</td>\n",
       "    </tr>\n",
       "    <tr>\n",
       "      <th>median</th>\n",
       "      <td>258.566</td>\n",
       "      <td>6.800000e+01</td>\n",
       "      <td>1216.00</td>\n",
       "      <td>2408.0</td>\n",
       "      <td>3.036000e+03</td>\n",
       "      <td>120.0</td>\n",
       "    </tr>\n",
       "    <tr>\n",
       "      <th>upper_quartile</th>\n",
       "      <td>1469.787</td>\n",
       "      <td>3.490000e+02</td>\n",
       "      <td>4270.05</td>\n",
       "      <td>9767.2</td>\n",
       "      <td>1.287940e+04</td>\n",
       "      <td>452.0</td>\n",
       "    </tr>\n",
       "    <tr>\n",
       "      <th>max</th>\n",
       "      <td>49292.282</td>\n",
       "      <td>2.727915e+09</td>\n",
       "      <td>259020.00</td>\n",
       "      <td>2896000.0</td>\n",
       "      <td>1.879251e+09</td>\n",
       "      <td>432000.0</td>\n",
       "    </tr>\n",
       "  </tbody>\n",
       "</table>\n",
       "</div>"
      ],
      "text/plain": [
       "                Cubic metres, thousand  Metric tons,  thousand  \\\n",
       "titles                                                           \n",
       "min                          -1779.967           -1.928800e+04   \n",
       "lower_quartile                  13.136            6.000000e+00   \n",
       "median                         258.566            6.800000e+01   \n",
       "upper_quartile                1469.787            3.490000e+02   \n",
       "max                          49292.282            2.727915e+09   \n",
       "\n",
       "                Kilowatts,  thousand  Kilowatt-hours, million    Terajoules  \\\n",
       "titles                                                                        \n",
       "min                             0.00                      0.0 -4.335110e+05   \n",
       "lower_quartile                 50.00                    345.0  3.450000e+02   \n",
       "median                       1216.00                   2408.0  3.036000e+03   \n",
       "upper_quartile               4270.05                   9767.2  1.287940e+04   \n",
       "max                        259020.00                2896000.0  1.879251e+09   \n",
       "\n",
       "                Metric Tons  \n",
       "titles                       \n",
       "min                     0.0  \n",
       "lower_quartile         24.0  \n",
       "median                120.0  \n",
       "upper_quartile        452.0  \n",
       "max                432000.0  "
      ]
     },
     "execution_count": 10,
     "metadata": {},
     "output_type": "execute_result"
    }
   ],
   "source": [
    "num_df = num_df[['quantity','unit']]\n",
    "num_column = list(num_df.columns)\n",
    "unit_set = list(set(num_df['unit'].tolist()))\n",
    "columns =  unit_set\n",
    "quantity_val = []\n",
    "quantity_dict = {}\n",
    "for cate in columns:\n",
    "    temp = []\n",
    "    unit_cate = num_df[num_df['unit'] == cate]\n",
    "    arrays = unit_cate['quantity'].to_numpy()\n",
    "    temp.append(np.nanmin(arrays,axis=0).round(3))\n",
    "    temp.append(np.nanpercentile(arrays,25,axis=0).round(3))\n",
    "    temp.append(np.nanpercentile(arrays,50,axis=0).round(3))\n",
    "    temp.append(np.nanpercentile(arrays,70,axis=0).round(3))\n",
    "    temp.append(np.nanmax(arrays,axis=0).round(3))\n",
    "    quantity_val.append(temp)\n",
    "\n",
    "for col in range(len(columns)):\n",
    "    quantity_dict[columns[col]] = quantity_val[col]\n",
    "    quantity_dict['titles']=titles   \n",
    "    \n",
    "pd.DataFrame(quantity_dict).set_index('titles')\n"
   ]
  },
  {
   "cell_type": "markdown",
   "metadata": {},
   "source": [
    "#### Nhận xét:\n",
    "- Như ta đã thấy, sự chênh lệch của gái trị min và max của mỗi cột là khá lớn\n",
    "- Ở đây có cả những giá trị âm, chứng tỏ quá trình trao đổi không phải lúc nào cũng đem về kết quả dương"
   ]
  },
  {
   "cell_type": "markdown",
   "metadata": {},
   "source": [
    "Ta sẽ tiếp tục tìm hiểu xem nhưng giá trị âm này tại sao lại có mặt\n",
    "Ở đây ta sẽ xem loại hàng hóa và mục đích của những hàng có **quantity** âm"
   ]
  },
  {
   "cell_type": "code",
   "execution_count": 11,
   "metadata": {},
   "outputs": [
    {
     "name": "stdout",
     "output_type": "stream",
     "text": [
      "{'Aviation gasoline - Total energy supply', 'Aviation gasoline - Stock changes', 'Additives and Oxygenates - Stock changes', 'Biodiesel - Stock changes', 'Charcoal - Stock changes', 'Conventional crude oil - stock changes', 'Brown coal briquettes - stock changes', 'Coal Tar - Stock changes', 'Charcoal - Total energy supply', 'Biodiesel - Net transfers', 'Coking coal - stock changes', 'Biogasoline - stock changes', 'Bitumen - Stock changes', 'Ethane - Stock changes', 'Additives and Oxygenates - Total energy supply', 'Coke Oven Gas - Stock changes', 'Conventional crude oil - transfers and recycled products', 'Brown coal - changes in stocks', 'Aviation gasoline - Transfers and recycled products', 'Bitumen - Transfers and recycled products', 'Anthracite - stock changes', 'Biogases - Stock changes'}\n"
     ]
    }
   ],
   "source": [
    "commo_transac = []\n",
    "for i in range(100000):\n",
    "    if europe_df.iloc[i]['quantity'] < 0:\n",
    "        commo_transac.append(europe_df.iloc[i]['commodity_transaction'])\n",
    "        commo_type = set(commo_transac)\n",
    "print(commo_type)"
   ]
  },
  {
   "cell_type": "markdown",
   "metadata": {},
   "source": [
    "#### Nhận  xét\n",
    "- Như đã thấy, chủ yếu những giá trị **quantity** âm đến từ những hoạt động trao đổi hàng hóa - việc trao đổi hàng hóa có thể lỗ và trả về âm. Một số ở lượng năng lượng cung cấp. Do lượng cung cấp thấp hơn như cầu sử dụng nên mang giá trị âm."
   ]
  },
  {
   "cell_type": "markdown",
   "metadata": {},
   "source": [
    "### Sự phân bố dữ liệu không phải dạng số"
   ]
  },
  {
   "cell_type": "markdown",
   "metadata": {},
   "source": [
    "Ở đây ta sẽ xem xét những giá trị:\n",
    "- Số các giá trị khác nhau của từng cột\n",
    "- Giá trị xuất hiện nhiều lần nhất của một cột"
   ]
  },
  {
   "cell_type": "code",
   "execution_count": 13,
   "metadata": {},
   "outputs": [
    {
     "data": {
      "text/html": [
       "<div>\n",
       "<style scoped>\n",
       "    .dataframe tbody tr th:only-of-type {\n",
       "        vertical-align: middle;\n",
       "    }\n",
       "\n",
       "    .dataframe tbody tr th {\n",
       "        vertical-align: top;\n",
       "    }\n",
       "\n",
       "    .dataframe thead th {\n",
       "        text-align: right;\n",
       "    }\n",
       "</style>\n",
       "<table border=\"1\" class=\"dataframe\">\n",
       "  <thead>\n",
       "    <tr style=\"text-align: right;\">\n",
       "      <th></th>\n",
       "      <th>country_or_area</th>\n",
       "      <th>commodity_transaction</th>\n",
       "      <th>unit</th>\n",
       "      <th>category</th>\n",
       "    </tr>\n",
       "    <tr>\n",
       "      <th>titles</th>\n",
       "      <th></th>\n",
       "      <th></th>\n",
       "      <th></th>\n",
       "      <th></th>\n",
       "    </tr>\n",
       "  </thead>\n",
       "  <tbody>\n",
       "    <tr>\n",
       "      <th>seperated_num</th>\n",
       "      <td>382755</td>\n",
       "      <td>382755</td>\n",
       "      <td>382755</td>\n",
       "      <td>382755</td>\n",
       "    </tr>\n",
       "    <tr>\n",
       "      <th>most_frequent</th>\n",
       "      <td>Germany</td>\n",
       "      <td>From combustible fuels – Main activity</td>\n",
       "      <td>Metric tons,  thousand</td>\n",
       "      <td>total_electricity</td>\n",
       "    </tr>\n",
       "    <tr>\n",
       "      <th>max_ratio</th>\n",
       "      <td>5.335528</td>\n",
       "      <td>0.328931</td>\n",
       "      <td>61.494951</td>\n",
       "      <td>8.769578</td>\n",
       "    </tr>\n",
       "  </tbody>\n",
       "</table>\n",
       "</div>"
      ],
      "text/plain": [
       "              country_or_area                   commodity_transaction  \\\n",
       "titles                                                                  \n",
       "seperated_num          382755                                  382755   \n",
       "most_frequent         Germany  From combustible fuels – Main activity   \n",
       "max_ratio            5.335528                                0.328931   \n",
       "\n",
       "                                 unit           category  \n",
       "titles                                                    \n",
       "seperated_num                  382755             382755  \n",
       "most_frequent  Metric tons,  thousand  total_electricity  \n",
       "max_ratio                   61.494951           8.769578  "
      ]
     },
     "execution_count": 13,
     "metadata": {},
     "output_type": "execute_result"
    }
   ],
   "source": [
    "nonnum_df=europe_df.select_dtypes('object')\n",
    "nonnum_titles = ['seperated_num','most_frequent','max_ratio']\n",
    "col_names = nonnum_df.columns\n",
    "values_list=[]\n",
    "dic={}\n",
    "for i in col_names:\n",
    "    cate = {}\n",
    "    num = 0\n",
    "    temp = []\n",
    "    df=nonnum_df.copy()[[i]]\n",
    "    count = len(df)\n",
    "    temp.append(count)\n",
    "    diff = set(df[i])\n",
    "    cate = dict.fromkeys(diff,0)\n",
    "    for key in df[i]:\n",
    "        cate[key] = cate[key] + 1\n",
    "    max_val = max(cate,key = cate.get)\n",
    "    temp.append(max_val)\n",
    "    ratio = cate[max_val]/num_rows*100\n",
    "    temp.append(ratio)\n",
    "    values_list.append(temp)\n",
    "    \n",
    "for col in range(len(col_names)):\n",
    "    dic[col_names[col]] = values_list[col]\n",
    "    dic['titles']=nonnum_titles \n",
    "    \n",
    "pd.DataFrame(dic).set_index('titles')"
   ]
  },
  {
   "cell_type": "markdown",
   "metadata": {},
   "source": [
    "#### Nhận xét:\n",
    "- Như ta thấy ở trên, loại hình năng lượng được xuất hiện phổ biến nhất chính là điện năng, điều này hoàn toàn hợp lý ở thời hiện đại này"
   ]
  },
  {
   "cell_type": "markdown",
   "metadata": {},
   "source": [
    "## Tiền xử lý dữ liệu"
   ]
  },
  {
   "cell_type": "markdown",
   "metadata": {},
   "source": [
    "### Như ta đã phân tích ở trên, cột quantity_footnotes là không cần thiết, vì vậy ta sẽ loại bỏ cột đó ra khỏi dataset"
   ]
  },
  {
   "cell_type": "code",
   "execution_count": 16,
   "metadata": {},
   "outputs": [
    {
     "data": {
      "text/html": [
       "<div>\n",
       "<style scoped>\n",
       "    .dataframe tbody tr th:only-of-type {\n",
       "        vertical-align: middle;\n",
       "    }\n",
       "\n",
       "    .dataframe tbody tr th {\n",
       "        vertical-align: top;\n",
       "    }\n",
       "\n",
       "    .dataframe thead th {\n",
       "        text-align: right;\n",
       "    }\n",
       "</style>\n",
       "<table border=\"1\" class=\"dataframe\">\n",
       "  <thead>\n",
       "    <tr style=\"text-align: right;\">\n",
       "      <th></th>\n",
       "      <th>country_or_area</th>\n",
       "      <th>commodity_transaction</th>\n",
       "      <th>year</th>\n",
       "      <th>unit</th>\n",
       "      <th>quantity</th>\n",
       "      <th>category</th>\n",
       "    </tr>\n",
       "  </thead>\n",
       "  <tbody>\n",
       "    <tr>\n",
       "      <th>0</th>\n",
       "      <td>Austria</td>\n",
       "      <td>Additives and Oxygenates - Exports</td>\n",
       "      <td>1996</td>\n",
       "      <td>Metric tons,  thousand</td>\n",
       "      <td>5.0</td>\n",
       "      <td>additives_and_oxygenates</td>\n",
       "    </tr>\n",
       "    <tr>\n",
       "      <th>1</th>\n",
       "      <td>Austria</td>\n",
       "      <td>Additives and Oxygenates - Exports</td>\n",
       "      <td>1995</td>\n",
       "      <td>Metric tons,  thousand</td>\n",
       "      <td>17.0</td>\n",
       "      <td>additives_and_oxygenates</td>\n",
       "    </tr>\n",
       "    <tr>\n",
       "      <th>2</th>\n",
       "      <td>Belgium</td>\n",
       "      <td>Additives and Oxygenates - Exports</td>\n",
       "      <td>2014</td>\n",
       "      <td>Metric tons,  thousand</td>\n",
       "      <td>0.0</td>\n",
       "      <td>additives_and_oxygenates</td>\n",
       "    </tr>\n",
       "    <tr>\n",
       "      <th>3</th>\n",
       "      <td>Belgium</td>\n",
       "      <td>Additives and Oxygenates - Exports</td>\n",
       "      <td>2013</td>\n",
       "      <td>Metric tons,  thousand</td>\n",
       "      <td>0.0</td>\n",
       "      <td>additives_and_oxygenates</td>\n",
       "    </tr>\n",
       "    <tr>\n",
       "      <th>4</th>\n",
       "      <td>Belgium</td>\n",
       "      <td>Additives and Oxygenates - Exports</td>\n",
       "      <td>2012</td>\n",
       "      <td>Metric tons,  thousand</td>\n",
       "      <td>35.0</td>\n",
       "      <td>additives_and_oxygenates</td>\n",
       "    </tr>\n",
       "    <tr>\n",
       "      <th>...</th>\n",
       "      <td>...</td>\n",
       "      <td>...</td>\n",
       "      <td>...</td>\n",
       "      <td>...</td>\n",
       "      <td>...</td>\n",
       "      <td>...</td>\n",
       "    </tr>\n",
       "    <tr>\n",
       "      <th>382750</th>\n",
       "      <td>United Kingdom</td>\n",
       "      <td>Electricity - total wind production</td>\n",
       "      <td>1994</td>\n",
       "      <td>Kilowatt-hours, million</td>\n",
       "      <td>342.0</td>\n",
       "      <td>wind_electricity</td>\n",
       "    </tr>\n",
       "    <tr>\n",
       "      <th>382751</th>\n",
       "      <td>United Kingdom</td>\n",
       "      <td>Electricity - total wind production</td>\n",
       "      <td>1993</td>\n",
       "      <td>Kilowatt-hours, million</td>\n",
       "      <td>218.0</td>\n",
       "      <td>wind_electricity</td>\n",
       "    </tr>\n",
       "    <tr>\n",
       "      <th>382752</th>\n",
       "      <td>United Kingdom</td>\n",
       "      <td>Electricity - total wind production</td>\n",
       "      <td>1992</td>\n",
       "      <td>Kilowatt-hours, million</td>\n",
       "      <td>40.0</td>\n",
       "      <td>wind_electricity</td>\n",
       "    </tr>\n",
       "    <tr>\n",
       "      <th>382753</th>\n",
       "      <td>United Kingdom</td>\n",
       "      <td>Electricity - total wind production</td>\n",
       "      <td>1991</td>\n",
       "      <td>Kilowatt-hours, million</td>\n",
       "      <td>11.0</td>\n",
       "      <td>wind_electricity</td>\n",
       "    </tr>\n",
       "    <tr>\n",
       "      <th>382754</th>\n",
       "      <td>United Kingdom</td>\n",
       "      <td>Electricity - total wind production</td>\n",
       "      <td>1990</td>\n",
       "      <td>Kilowatt-hours, million</td>\n",
       "      <td>9.0</td>\n",
       "      <td>wind_electricity</td>\n",
       "    </tr>\n",
       "  </tbody>\n",
       "</table>\n",
       "<p>382755 rows × 6 columns</p>\n",
       "</div>"
      ],
      "text/plain": [
       "       country_or_area                commodity_transaction  year  \\\n",
       "0              Austria   Additives and Oxygenates - Exports  1996   \n",
       "1              Austria   Additives and Oxygenates - Exports  1995   \n",
       "2              Belgium   Additives and Oxygenates - Exports  2014   \n",
       "3              Belgium   Additives and Oxygenates - Exports  2013   \n",
       "4              Belgium   Additives and Oxygenates - Exports  2012   \n",
       "...                ...                                  ...   ...   \n",
       "382750  United Kingdom  Electricity - total wind production  1994   \n",
       "382751  United Kingdom  Electricity - total wind production  1993   \n",
       "382752  United Kingdom  Electricity - total wind production  1992   \n",
       "382753  United Kingdom  Electricity - total wind production  1991   \n",
       "382754  United Kingdom  Electricity - total wind production  1990   \n",
       "\n",
       "                           unit  quantity                  category  \n",
       "0        Metric tons,  thousand       5.0  additives_and_oxygenates  \n",
       "1        Metric tons,  thousand      17.0  additives_and_oxygenates  \n",
       "2        Metric tons,  thousand       0.0  additives_and_oxygenates  \n",
       "3        Metric tons,  thousand       0.0  additives_and_oxygenates  \n",
       "4        Metric tons,  thousand      35.0  additives_and_oxygenates  \n",
       "...                         ...       ...                       ...  \n",
       "382750  Kilowatt-hours, million     342.0          wind_electricity  \n",
       "382751  Kilowatt-hours, million     218.0          wind_electricity  \n",
       "382752  Kilowatt-hours, million      40.0          wind_electricity  \n",
       "382753  Kilowatt-hours, million      11.0          wind_electricity  \n",
       "382754  Kilowatt-hours, million       9.0          wind_electricity  \n",
       "\n",
       "[382755 rows x 6 columns]"
      ]
     },
     "execution_count": 16,
     "metadata": {},
     "output_type": "execute_result"
    }
   ],
   "source": [
    "new_df = europe_df.drop(['quantity_footnotes'], axis=1)\n",
    "new_df.to_csv(\"Europe_new.csv\",index=False)\n",
    "new_df"
   ]
  }
 ],
 "metadata": {
  "kernelspec": {
   "display_name": "Python 3",
   "language": "python",
   "name": "python3"
  },
  "language_info": {
   "codemirror_mode": {
    "name": "ipython",
    "version": 3
   },
   "file_extension": ".py",
   "mimetype": "text/x-python",
   "name": "python",
   "nbconvert_exporter": "python",
   "pygments_lexer": "ipython3",
   "version": "3.9.0 (tags/v3.9.0:9cf6752, Oct  5 2020, 15:34:40) [MSC v.1927 64 bit (AMD64)]"
  },
  "orig_nbformat": 4,
  "vscode": {
   "interpreter": {
    "hash": "25034407fed5d681614dac11a1c0537e8cb49e3a8883c071303eea01322943d9"
   }
  }
 },
 "nbformat": 4,
 "nbformat_minor": 2
}
