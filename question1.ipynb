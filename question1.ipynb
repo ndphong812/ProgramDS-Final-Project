{
 "cells": [
  {
   "cell_type": "markdown",
   "metadata": {},
   "source": [
    "# Câu hỏi 1:"
   ]
  },
  {
   "cell_type": "markdown",
   "metadata": {},
   "source": [
    "## Tình hình sản xuất và tiêu thụ khí gas ở các nước EU"
   ]
  },
  {
   "cell_type": "markdown",
   "metadata": {},
   "source": [
    "Như trên các phương tiện thông tin đại chúng, ta thấy được rằng từ đầu đến giữa năm 2022, thông tin Nga ngừng cung cấp khí đốt cho các nước châu Âu đã khiến thế giời xôn xao. Liệu vì sao mà thông tin này lại quan trọng như vậy? Hãy cùng phân tích nhu cầu khí đốt ở các nước châu Âu để hiểu rõ hơn về chuyện này"
   ]
  },
  {
   "cell_type": "markdown",
   "metadata": {},
   "source": [
    "Câu hỏi sẽ giải đáp được:\n",
    "- Tình hình tiêu thụ và sản xuất điện năng của các nước châu Âu\n",
    "- Liệu lượng khí đốt sản xuất có đủ cho tiêu thụ\n",
    "- Các nước có phụ thuộc vào việc nhập khẩu khí đốt hay không"
   ]
  },
  {
   "cell_type": "code",
   "execution_count": 1,
   "metadata": {},
   "outputs": [
    {
     "data": {
      "text/html": [
       "<div>\n",
       "<style scoped>\n",
       "    .dataframe tbody tr th:only-of-type {\n",
       "        vertical-align: middle;\n",
       "    }\n",
       "\n",
       "    .dataframe tbody tr th {\n",
       "        vertical-align: top;\n",
       "    }\n",
       "\n",
       "    .dataframe thead th {\n",
       "        text-align: right;\n",
       "    }\n",
       "</style>\n",
       "<table border=\"1\" class=\"dataframe\">\n",
       "  <thead>\n",
       "    <tr style=\"text-align: right;\">\n",
       "      <th></th>\n",
       "      <th>country_or_area</th>\n",
       "      <th>commodity_transaction</th>\n",
       "      <th>year</th>\n",
       "      <th>unit</th>\n",
       "      <th>quantity</th>\n",
       "      <th>category</th>\n",
       "    </tr>\n",
       "  </thead>\n",
       "  <tbody>\n",
       "    <tr>\n",
       "      <th>0</th>\n",
       "      <td>Austria</td>\n",
       "      <td>Additives and Oxygenates - Exports</td>\n",
       "      <td>1996</td>\n",
       "      <td>Metric tons,  thousand</td>\n",
       "      <td>5.0</td>\n",
       "      <td>additives_and_oxygenates</td>\n",
       "    </tr>\n",
       "    <tr>\n",
       "      <th>1</th>\n",
       "      <td>Austria</td>\n",
       "      <td>Additives and Oxygenates - Exports</td>\n",
       "      <td>1995</td>\n",
       "      <td>Metric tons,  thousand</td>\n",
       "      <td>17.0</td>\n",
       "      <td>additives_and_oxygenates</td>\n",
       "    </tr>\n",
       "    <tr>\n",
       "      <th>2</th>\n",
       "      <td>Belgium</td>\n",
       "      <td>Additives and Oxygenates - Exports</td>\n",
       "      <td>2014</td>\n",
       "      <td>Metric tons,  thousand</td>\n",
       "      <td>0.0</td>\n",
       "      <td>additives_and_oxygenates</td>\n",
       "    </tr>\n",
       "    <tr>\n",
       "      <th>3</th>\n",
       "      <td>Belgium</td>\n",
       "      <td>Additives and Oxygenates - Exports</td>\n",
       "      <td>2013</td>\n",
       "      <td>Metric tons,  thousand</td>\n",
       "      <td>0.0</td>\n",
       "      <td>additives_and_oxygenates</td>\n",
       "    </tr>\n",
       "    <tr>\n",
       "      <th>4</th>\n",
       "      <td>Belgium</td>\n",
       "      <td>Additives and Oxygenates - Exports</td>\n",
       "      <td>2012</td>\n",
       "      <td>Metric tons,  thousand</td>\n",
       "      <td>35.0</td>\n",
       "      <td>additives_and_oxygenates</td>\n",
       "    </tr>\n",
       "  </tbody>\n",
       "</table>\n",
       "</div>"
      ],
      "text/plain": [
       "  country_or_area               commodity_transaction  year  \\\n",
       "0         Austria  Additives and Oxygenates - Exports  1996   \n",
       "1         Austria  Additives and Oxygenates - Exports  1995   \n",
       "2         Belgium  Additives and Oxygenates - Exports  2014   \n",
       "3         Belgium  Additives and Oxygenates - Exports  2013   \n",
       "4         Belgium  Additives and Oxygenates - Exports  2012   \n",
       "\n",
       "                     unit  quantity                  category  \n",
       "0  Metric tons,  thousand       5.0  additives_and_oxygenates  \n",
       "1  Metric tons,  thousand      17.0  additives_and_oxygenates  \n",
       "2  Metric tons,  thousand       0.0  additives_and_oxygenates  \n",
       "3  Metric tons,  thousand       0.0  additives_and_oxygenates  \n",
       "4  Metric tons,  thousand      35.0  additives_and_oxygenates  "
      ]
     },
     "execution_count": 1,
     "metadata": {},
     "output_type": "execute_result"
    }
   ],
   "source": [
    "import numpy as np \n",
    "import pandas as pd \n",
    "import matplotlib.pyplot as plt\n",
    "import seaborn as sns\n",
    "%matplotlib inline\n",
    "import pandas as pd\n",
    "df = pd.read_csv(\"Europe.csv\")\n",
    "eu_df = df.drop(['quantity_footnotes'], axis=1)\n",
    "eu_df.head()"
   ]
  },
  {
   "cell_type": "markdown",
   "metadata": {},
   "source": [
    "### Thiết lập các hàm để hỗ trợ quá trình phân tích"
   ]
  },
  {
   "cell_type": "code",
   "execution_count": 2,
   "metadata": {},
   "outputs": [],
   "source": [
    "#Hàm chọn dữ liệu theo đât nước\n",
    "def select_country(countryname):\n",
    "    country_data = eu_df[eu_df['country_or_area'].isin(countryname)].sort_values('year').reset_index()\n",
    "    country_data.drop('index', axis=1, inplace=True)\n",
    "    return country_data"
   ]
  },
  {
   "cell_type": "code",
   "execution_count": 3,
   "metadata": {},
   "outputs": [],
   "source": [
    "#Hàm chọn dữ liệu theo category\n",
    "def select_category(country_data, categoryname):\n",
    "    category_country = country_data[country_data['category'].isin(categoryname)].sort_values('year').reset_index()\n",
    "    category_country.drop('index', axis=1, inplace=True)\n",
    "    return category_country"
   ]
  },
  {
   "cell_type": "code",
   "execution_count": 4,
   "metadata": {},
   "outputs": [],
   "source": [
    "#Hàm chọn dữ liệu theo commodity_transaction\n",
    "def select_commodity(category_country, commodityname):\n",
    "    commodity_country = category_country[category_country['commodity_transaction'].isin(commodityname)].sort_values('year').reset_index()\n",
    "    commodity_country.drop('index', axis=1, inplace=True )\n",
    "    return commodity_country"
   ]
  },
  {
   "cell_type": "markdown",
   "metadata": {},
   "source": [
    "### Đầu tiên ta tổng hợp về tổng lượng khí đốt tiêu thụ của các nước"
   ]
  },
  {
   "cell_type": "code",
   "execution_count": 5,
   "metadata": {},
   "outputs": [
    {
     "name": "stdout",
     "output_type": "stream",
     "text": [
      "{'2000': 10187.0, '2001': 5699.0, '2002': 5463.0, '2003': 5804.0, '2004': 4747.0, '2005': 4789.0, '2006': 4505.0, '2007': 4213.0, '2008': 4580.0, '2009': 3328.0, '2010': 2949.0, '2011': 1279.0, '2012': 1104.0, '2013': 1246.0, '2014': 1073.0}\n"
     ]
    }
   ],
   "source": [
    "gaswork_comsumption = select_commodity(eu_df,['Gasworks Gas - Final consumption'])\n",
    "year = [i for i in range (2000,2015)]\n",
    "consumption_by_year = {}\n",
    "for i in year:\n",
    "    consumption_by_year[str(i)] = gaswork_comsumption[gaswork_comsumption['year'] == i]['quantity'].sum().round(3)\n",
    "print(consumption_by_year)"
   ]
  },
  {
   "cell_type": "markdown",
   "metadata": {},
   "source": [
    "### Tổng hợp về lượng khí đốt sản xuất được"
   ]
  },
  {
   "cell_type": "code",
   "execution_count": 6,
   "metadata": {},
   "outputs": [],
   "source": [
    "gaswork_production = select_commodity(eu_df,['Gasworks Gas - Production'])\n",
    "production_by_year = {}\n",
    "for i in year:\n",
    "    production_by_year[str(i)] = gaswork_production[gaswork_production['year'] == i]['quantity'].sum().round(3)"
   ]
  },
  {
   "cell_type": "markdown",
   "metadata": {},
   "source": [
    "### Trực quan hóa"
   ]
  },
  {
   "cell_type": "code",
   "execution_count": 7,
   "metadata": {},
   "outputs": [],
   "source": [
    "year_list = []\n",
    "consumption_list = []\n",
    "production_list = []\n",
    "for key, item in consumption_by_year.items():\n",
    "    year_list.append(key)\n",
    "    consumption_list.append(item)\n",
    "for key, item in production_by_year.items():\n",
    "    production_list.append(item)"
   ]
  },
  {
   "cell_type": "code",
   "execution_count": 8,
   "metadata": {},
   "outputs": [
    {
     "data": {
      "text/plain": [
       "<matplotlib.legend.Legend at 0x1b81a60a7d0>"
      ]
     },
     "execution_count": 8,
     "metadata": {},
     "output_type": "execute_result"
    },
    {
     "data": {
      "image/png": "[encoded data removed]",
      "text/plain": [
       "<Figure size 640x480 with 1 Axes>"
      ]
     },
     "metadata": {},
     "output_type": "display_data"
    }
   ],
   "source": [
    "ind = np.arange(len(year_list))\n",
    "width = 0.4\n",
    "fig, ax = plt.subplots()\n",
    "\n",
    "gas = pd.DataFrame(dict(graph=year_list,\n",
    "                           n=consumption_list, m=production_list)) \n",
    "\n",
    "ax.barh(ind, gas.n, width, color='red', label='consumtion')\n",
    "ax.barh(ind + width, gas.m, width, color='green', label='production')\n",
    "\n",
    "ax.set(yticks=ind + width, yticklabels=gas.graph, ylim=[2*width - 1, len(gas)])\n",
    "ax.legend()"
   ]
  },
  {
   "cell_type": "markdown",
   "metadata": {},
   "source": [
    "## Nhận xét:\n",
    "- Như ta đã thấy, lượng khí đốt sản xuất được của các nước chênh lệnh rất đáng kể so với lượng khí tiêu thụ được, điều này chứng minh cho việc các nước này chủ yếu xuất khẩu khí đốt và nhu cầu khí đốt không cao?\n",
    "- Ta sẽ cũng làm rõ hơn bằng việc xem xét lượng xuất khẩu và nhập khẩu"
   ]
  },
  {
   "cell_type": "code",
   "execution_count": 9,
   "metadata": {},
   "outputs": [],
   "source": [
    "gaswork_import = select_commodity(eu_df,['Gasworks Gas - Imports'])\n",
    "year = [i for i in range (2000,2015)]\n",
    "import_by_year = {}\n",
    "for i in year:\n",
    "    import_by_year[str(i)] = gaswork_import[gaswork_import['year'] == i]['quantity'].sum().round(3)"
   ]
  },
  {
   "cell_type": "code",
   "execution_count": 10,
   "metadata": {},
   "outputs": [
    {
     "name": "stdout",
     "output_type": "stream",
     "text": [
      "Import:\n",
      "{'2000': 0.0, '2001': 0.0, '2002': 0.0, '2003': 0.0, '2004': 0.0, '2005': 0.0, '2006': 0.0, '2007': 0.0, '2008': 0.0, '2009': 0.0, '2010': 0.0, '2011': 0.0, '2012': 0.0, '2013': 0.0, '2014': 0.0}\n",
      "Export:\n",
      "{'2000': 0.0, '2001': 0.0, '2002': 0.0, '2003': 0.0, '2004': 0.0, '2005': 0.0, '2006': 0.0, '2007': 0.0, '2008': 0.0, '2009': 0.0, '2010': 0.0, '2011': 0.0, '2012': 0.0, '2013': 0.0, '2014': 0.0}\n"
     ]
    }
   ],
   "source": [
    "gaswork_export = select_commodity(eu_df,['Gasworks Gas - Exports'])\n",
    "year = [i for i in range (2000,2015)]\n",
    "export_by_year = {}\n",
    "for i in year:\n",
    "    export_by_year[str(i)] = gaswork_export[gaswork_export['year'] == i]['quantity'].sum().round(3)\n",
    "print(\"Import:\")\n",
    "print(import_by_year)\n",
    "print(\"Export:\")\n",
    "print(export_by_year)"
   ]
  },
  {
   "cell_type": "markdown",
   "metadata": {},
   "source": [
    "Theo số liệu trên, không hề có bất kì lượng khí nào được xuất khẩu hay nhập khẩu cả.\n",
    "Điều này khá vô lý\n",
    "Để chắc chắn hơn ta kiểm tra xem trong dữ liệu có tồn tại dữ liệu xuất nhập khẩu hay không\n",
    "Ta lọc dữ liệu ở mục gaswork"
   ]
  },
  {
   "cell_type": "code",
   "execution_count": 11,
   "metadata": {},
   "outputs": [
    {
     "name": "stdout",
     "output_type": "stream",
     "text": [
      "Import info\n"
     ]
    },
    {
     "data": {
      "text/html": [
       "<div>\n",
       "<style scoped>\n",
       "    .dataframe tbody tr th:only-of-type {\n",
       "        vertical-align: middle;\n",
       "    }\n",
       "\n",
       "    .dataframe tbody tr th {\n",
       "        vertical-align: top;\n",
       "    }\n",
       "\n",
       "    .dataframe thead th {\n",
       "        text-align: right;\n",
       "    }\n",
       "</style>\n",
       "<table border=\"1\" class=\"dataframe\">\n",
       "  <thead>\n",
       "    <tr style=\"text-align: right;\">\n",
       "      <th></th>\n",
       "      <th>country_or_area</th>\n",
       "      <th>commodity_transaction</th>\n",
       "      <th>year</th>\n",
       "      <th>unit</th>\n",
       "      <th>quantity</th>\n",
       "      <th>category</th>\n",
       "    </tr>\n",
       "  </thead>\n",
       "  <tbody>\n",
       "    <tr>\n",
       "      <th>148181</th>\n",
       "      <td>Poland</td>\n",
       "      <td>Gasworks Gas - Imports</td>\n",
       "      <td>1994</td>\n",
       "      <td>Terajoules</td>\n",
       "      <td>75.0</td>\n",
       "      <td>gasworks_gas</td>\n",
       "    </tr>\n",
       "    <tr>\n",
       "      <th>148182</th>\n",
       "      <td>Poland</td>\n",
       "      <td>Gasworks Gas - Imports</td>\n",
       "      <td>1993</td>\n",
       "      <td>Terajoules</td>\n",
       "      <td>183.0</td>\n",
       "      <td>gasworks_gas</td>\n",
       "    </tr>\n",
       "    <tr>\n",
       "      <th>148183</th>\n",
       "      <td>Poland</td>\n",
       "      <td>Gasworks Gas - Imports</td>\n",
       "      <td>1992</td>\n",
       "      <td>Terajoules</td>\n",
       "      <td>204.0</td>\n",
       "      <td>gasworks_gas</td>\n",
       "    </tr>\n",
       "    <tr>\n",
       "      <th>148184</th>\n",
       "      <td>Poland</td>\n",
       "      <td>Gasworks Gas - Imports</td>\n",
       "      <td>1991</td>\n",
       "      <td>Terajoules</td>\n",
       "      <td>213.0</td>\n",
       "      <td>gasworks_gas</td>\n",
       "    </tr>\n",
       "    <tr>\n",
       "      <th>148185</th>\n",
       "      <td>Poland</td>\n",
       "      <td>Gasworks Gas - Imports</td>\n",
       "      <td>1990</td>\n",
       "      <td>Terajoules</td>\n",
       "      <td>207.0</td>\n",
       "      <td>gasworks_gas</td>\n",
       "    </tr>\n",
       "  </tbody>\n",
       "</table>\n",
       "</div>"
      ],
      "text/plain": [
       "       country_or_area   commodity_transaction  year        unit  quantity  \\\n",
       "148181          Poland  Gasworks Gas - Imports  1994  Terajoules      75.0   \n",
       "148182          Poland  Gasworks Gas - Imports  1993  Terajoules     183.0   \n",
       "148183          Poland  Gasworks Gas - Imports  1992  Terajoules     204.0   \n",
       "148184          Poland  Gasworks Gas - Imports  1991  Terajoules     213.0   \n",
       "148185          Poland  Gasworks Gas - Imports  1990  Terajoules     207.0   \n",
       "\n",
       "            category  \n",
       "148181  gasworks_gas  \n",
       "148182  gasworks_gas  \n",
       "148183  gasworks_gas  \n",
       "148184  gasworks_gas  \n",
       "148185  gasworks_gas  "
      ]
     },
     "execution_count": 11,
     "metadata": {},
     "output_type": "execute_result"
    }
   ],
   "source": [
    "import_info = eu_df[eu_df['commodity_transaction'] == 'Gasworks Gas - Imports']\n",
    "export_info = eu_df[eu_df['commodity_transaction'] == 'Gasworks Gas - Exports']\n",
    "print('Import info')\n",
    "import_info"
   ]
  },
  {
   "cell_type": "code",
   "execution_count": 12,
   "metadata": {},
   "outputs": [
    {
     "name": "stdout",
     "output_type": "stream",
     "text": [
      "Export info\n"
     ]
    },
    {
     "data": {
      "text/html": [
       "<div>\n",
       "<style scoped>\n",
       "    .dataframe tbody tr th:only-of-type {\n",
       "        vertical-align: middle;\n",
       "    }\n",
       "\n",
       "    .dataframe tbody tr th {\n",
       "        vertical-align: top;\n",
       "    }\n",
       "\n",
       "    .dataframe thead th {\n",
       "        text-align: right;\n",
       "    }\n",
       "</style>\n",
       "<table border=\"1\" class=\"dataframe\">\n",
       "  <thead>\n",
       "    <tr style=\"text-align: right;\">\n",
       "      <th></th>\n",
       "      <th>country_or_area</th>\n",
       "      <th>commodity_transaction</th>\n",
       "      <th>year</th>\n",
       "      <th>unit</th>\n",
       "      <th>quantity</th>\n",
       "      <th>category</th>\n",
       "    </tr>\n",
       "  </thead>\n",
       "  <tbody>\n",
       "    <tr>\n",
       "      <th>147762</th>\n",
       "      <td>Germany</td>\n",
       "      <td>Gasworks Gas - Exports</td>\n",
       "      <td>1993</td>\n",
       "      <td>Terajoules</td>\n",
       "      <td>180.0</td>\n",
       "      <td>gasworks_gas</td>\n",
       "    </tr>\n",
       "    <tr>\n",
       "      <th>147763</th>\n",
       "      <td>Germany</td>\n",
       "      <td>Gasworks Gas - Exports</td>\n",
       "      <td>1992</td>\n",
       "      <td>Terajoules</td>\n",
       "      <td>198.0</td>\n",
       "      <td>gasworks_gas</td>\n",
       "    </tr>\n",
       "    <tr>\n",
       "      <th>147764</th>\n",
       "      <td>Germany</td>\n",
       "      <td>Gasworks Gas - Exports</td>\n",
       "      <td>1991</td>\n",
       "      <td>Terajoules</td>\n",
       "      <td>216.0</td>\n",
       "      <td>gasworks_gas</td>\n",
       "    </tr>\n",
       "  </tbody>\n",
       "</table>\n",
       "</div>"
      ],
      "text/plain": [
       "       country_or_area   commodity_transaction  year        unit  quantity  \\\n",
       "147762         Germany  Gasworks Gas - Exports  1993  Terajoules     180.0   \n",
       "147763         Germany  Gasworks Gas - Exports  1992  Terajoules     198.0   \n",
       "147764         Germany  Gasworks Gas - Exports  1991  Terajoules     216.0   \n",
       "\n",
       "            category  \n",
       "147762  gasworks_gas  \n",
       "147763  gasworks_gas  \n",
       "147764  gasworks_gas  "
      ]
     },
     "execution_count": 12,
     "metadata": {},
     "output_type": "execute_result"
    }
   ],
   "source": [
    "print('Export info')\n",
    "export_info"
   ]
  },
  {
   "cell_type": "markdown",
   "metadata": {},
   "source": [
    "Ta thấy trong dữ liệu của gaswork có phần **import** và **export** nhưng kết quả tổng hợp qua từng năm lại bằng 0.\n",
    "Điều này chứng minh theo như dữ liệu thì các quốc gia này không nhập khẩu hay xuất khẩu khí đốt trong suốt những năm 2000-2014.\n",
    "Và trên đây ta thấy chỉ có dữ liệu xuất khẩu hay nhập khẩu của Đức và Ba Lan vào vài năm, điều này càng chứng minh tính chính xác của dữ liệu này."
   ]
  },
  {
   "cell_type": "markdown",
   "metadata": {},
   "source": [
    "## Nhận xét 2:\n",
    "- Lượng khí đốt này không được xuất khẩu cũng không được tiêu thụ hết, vậy nó đi đâu?\n",
    "- Đến đây ta chỉ có thể đi đến nghi vấn về sự xác thực của tập dữ liệu này là thiếu chính xác hoặc không đầy đủ"
   ]
  }
 ],
 "metadata": {
  "kernelspec": {
   "display_name": "Python 3 (ipykernel)",
   "language": "python",
   "name": "python3"
  },
  "language_info": {
   "codemirror_mode": {
    "name": "ipython",
    "version": 3
   },
   "file_extension": ".py",
   "mimetype": "text/x-python",
   "name": "python",
   "nbconvert_exporter": "python",
   "pygments_lexer": "ipython3",
   "version": "3.9.13"
  },
  "vscode": {
   "interpreter": {
    "hash": "72b172bfcd5d62dd1b5a0d6ee524ad7518e98866f2350b281a52cc14afeb818c"
   }
  }
 },
 "nbformat": 4,
 "nbformat_minor": 2
}
